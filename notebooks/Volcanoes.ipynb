{
  "nbformat": 4,
  "nbformat_minor": 0,
  "metadata": {
    "colab": {
      "provenance": [],
      "authorship_tag": "ABX9TyMK6fAZYGEmH+md/z4LxCR5",
      "include_colab_link": true
    },
    "kernelspec": {
      "name": "python3",
      "display_name": "Python 3"
    },
    "language_info": {
      "name": "python"
    }
  },
  "cells": [
    {
      "cell_type": "markdown",
      "metadata": {
        "id": "view-in-github",
        "colab_type": "text"
      },
      "source": [
        "<a href=\"https://colab.research.google.com/github/stenoe/ABSys/blob/main/notebooks/Volcanoes.ipynb\" target=\"_parent\"><img src=\"https://colab.research.google.com/assets/colab-badge.svg\" alt=\"Open In Colab\"/></a>"
      ]
    },
    {
      "cell_type": "markdown",
      "source": [
        "# Estonia's CO2 emission as Volcano\n",
        "\n",
        "Volcanoes emit annually about 0.28 - 0.36 Gtons CO2 per year. For the sake of simplicity, let's use the maximum of 0.36 Gtons/yr\n",
        "\n",
        "Estonia emits according to https://globalcarbonatlas.org/emissions/carbon-emissions/ about 10 Mtons/yr (data for 2021)."
      ],
      "metadata": {
        "id": "7EhaTMbyQdx9"
      }
    },
    {
      "cell_type": "code",
      "source": [
        "# transform Estonian emissions into Gtons/yr\n",
        "emEstonia = 10. / 1000.\n",
        "emEstonia"
      ],
      "metadata": {
        "colab": {
          "base_uri": "https://localhost:8080/"
        },
        "id": "MEljcplDQpRF",
        "outputId": "aa6bcce9-c060-4781-eca8-103e6fd44ec1"
      },
      "execution_count": null,
      "outputs": [
        {
          "output_type": "execute_result",
          "data": {
            "text/plain": [
              "0.01"
            ]
          },
          "metadata": {},
          "execution_count": 2
        }
      ]
    },
    {
      "cell_type": "markdown",
      "source": [
        "Let's assume only the approx. 60 active Volcanoes emit all the carbon dioxide for simplicity we can then estimate what one Volcano would emit."
      ],
      "metadata": {
        "id": "bky4dDQdRtp2"
      }
    },
    {
      "cell_type": "code",
      "source": [
        "oneVolcano = 0.36 / 60.\n",
        "oneVolcano"
      ],
      "metadata": {
        "colab": {
          "base_uri": "https://localhost:8080/"
        },
        "id": "tQ_9omJdRmEf",
        "outputId": "e5f8ca03-93a4-4a13-c171-f9c7ccdb8bb9"
      },
      "execution_count": null,
      "outputs": [
        {
          "output_type": "execute_result",
          "data": {
            "text/plain": [
              "0.006"
            ]
          },
          "metadata": {},
          "execution_count": 3
        }
      ]
    },
    {
      "cell_type": "markdown",
      "source": [
        "We can therefore relate the Estonian emission to volcanoes by\n",
        "\n",
        "$\\frac{0.01}{0.006} = v$"
      ],
      "metadata": {
        "id": "9T3yhee9SxIP"
      }
    },
    {
      "cell_type": "code",
      "source": [
        "0.01/0.006"
      ],
      "metadata": {
        "colab": {
          "base_uri": "https://localhost:8080/"
        },
        "id": "WscFQ8QRSMTh",
        "outputId": "ddcf230e-6780-4f48-af6e-a7b27744bf5d"
      },
      "execution_count": null,
      "outputs": [
        {
          "output_type": "execute_result",
          "data": {
            "text/plain": [
              "1.6666666666666667"
            ]
          },
          "metadata": {},
          "execution_count": 4
        }
      ]
    },
    {
      "cell_type": "markdown",
      "source": [
        "Ok so Estonia's annual CO2 emission is \"worth\" ~1.7 added volcanoes."
      ],
      "metadata": {
        "id": "X6sdsJ_-TPu9"
      }
    },
    {
      "cell_type": "code",
      "source": [],
      "metadata": {
        "id": "3DBvoPUeTNdE"
      },
      "execution_count": null,
      "outputs": []
    }
  ]
}